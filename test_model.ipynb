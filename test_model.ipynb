{
 "cells": [
  {
   "cell_type": "code",
   "execution_count": 1,
   "id": "9a84959e",
   "metadata": {},
   "outputs": [],
   "source": [
    "from ultralytics import YOLO\n",
    "import cv2"
   ]
  },
  {
   "cell_type": "code",
   "execution_count": 19,
   "id": "b4c01eb1",
   "metadata": {},
   "outputs": [
    {
     "name": "stdout",
     "output_type": "stream",
     "text": [
      "\n",
      "0: 512x640 (no detections), 607.4ms\n",
      "Speed: 39.7ms preprocess, 607.4ms inference, 12.8ms postprocess per image at shape (1, 3, 512, 640)\n"
     ]
    }
   ],
   "source": [
    "def resize_image(image, max_width=600, max_height=600):\n",
    "    h, w = image.shape[:2]\n",
    "    if w > max_width or h > max_height:\n",
    "        scale_w = max_width / w\n",
    "        scale_h = max_height / h\n",
    "        scale = min(scale_w, scale_h)\n",
    "        new_w = int(w * scale)\n",
    "        new_h = int(h * scale)\n",
    "        image = cv2.resize(image, (new_w, new_h))\n",
    "    return image\n",
    "\n",
    "\n",
    "model = YOLO(\"my_model.pt\")\n",
    "\n",
    "\n",
    "image_path = \"images/stone.jpg\"  \n",
    "image = cv2.imread(image_path)\n",
    "\n",
    "\n",
    "results = model.predict(source=image, conf=0.4, show=False)\n",
    "\n",
    "\n",
    "class_colors = {\n",
    "    'Good': (0, 255, 0),\n",
    "    'Defective': (0, 0, 255)\n",
    "}\n",
    "font = cv2.FONT_HERSHEY_SIMPLEX\n",
    "font_scale = 1.5\n",
    "thickness = 5\n",
    "\n",
    "\n",
    "for r in results:\n",
    "    for box in r.boxes:\n",
    "        x1, y1, x2, y2 = map(int, box.xyxy[0])\n",
    "        cls_id = int(box.cls[0])\n",
    "        conf = float(box.conf[0])\n",
    "        label_name = model.names[cls_id]\n",
    "        label = f\"{label_name} ({conf:.2f})\"\n",
    "        color = class_colors.get(label_name, (255, 255, 0))  \n",
    "\n",
    "        \n",
    "        cv2.rectangle(image, (x1, y1), (x2, y2), color, 2)\n",
    "\n",
    "        \n",
    "        (text_w, text_h), _ = cv2.getTextSize(label, font, font_scale, thickness)\n",
    "        cv2.rectangle(image, (x1, y1 - text_h - 10), (x1 + text_w, y1), color, -1)\n",
    "\n",
    "        \n",
    "        cv2.putText(image, label, (x1, y1 - 5), font, font_scale, (255, 255, 255), thickness)\n",
    "\n",
    "\n",
    "image = resize_image(image, max_width=600, max_height=700)\n",
    "\n",
    "\n",
    "cv2.imshow(\"Potato Detection\", image)\n",
    "cv2.waitKey(0)\n",
    "cv2.destroyAllWindows()\n"
   ]
  },
  {
   "cell_type": "markdown",
   "id": "4af1569f",
   "metadata": {},
   "source": [
    "# Load image"
   ]
  },
  {
   "cell_type": "code",
   "execution_count": 3,
   "id": "0bcd668f",
   "metadata": {},
   "outputs": [],
   "source": [
    "img_01 = cv2.imread(\"images/stone.jpg\")"
   ]
  },
  {
   "cell_type": "code",
   "execution_count": 4,
   "id": "69d8263f",
   "metadata": {},
   "outputs": [],
   "source": [
    "# load model\n",
    "model = YOLO(\"my_model.pt\")"
   ]
  },
  {
   "cell_type": "code",
   "execution_count": 6,
   "id": "d06ccf42",
   "metadata": {},
   "outputs": [
    {
     "data": {
      "text/plain": [
       "numpy.ndarray"
      ]
     },
     "execution_count": 6,
     "metadata": {},
     "output_type": "execute_result"
    }
   ],
   "source": [
    "type(img_01)"
   ]
  },
  {
   "cell_type": "code",
   "execution_count": 8,
   "id": "e29241d1",
   "metadata": {},
   "outputs": [
    {
     "name": "stdout",
     "output_type": "stream",
     "text": [
      "\n",
      "0: 512x640 1 Sprouted Potato, 854.2ms\n",
      "Speed: 6.2ms preprocess, 854.2ms inference, 3.1ms postprocess per image at shape (1, 3, 512, 640)\n"
     ]
    }
   ],
   "source": [
    "output = model(img_01)"
   ]
  },
  {
   "cell_type": "code",
   "execution_count": 15,
   "id": "d623fece",
   "metadata": {},
   "outputs": [
    {
     "data": {
      "text/plain": [
       "[3.3166685104370117, 9.633240699768066, 197.0, 137.5469207763672]"
      ]
     },
     "execution_count": 15,
     "metadata": {},
     "output_type": "execute_result"
    }
   ],
   "source": [
    "# get the bounding boxes point \n",
    "corner_point = output[0].boxes.xyxy[0].cpu().numpy().tolist()\n",
    "type(corner_point)\n",
    "corner_point"
   ]
  },
  {
   "cell_type": "code",
   "execution_count": 18,
   "id": "a7eca4f4",
   "metadata": {},
   "outputs": [
    {
     "ename": "TypeError",
     "evalue": "cannot unpack non-iterable float object",
     "output_type": "error",
     "traceback": [
      "\u001b[1;31m---------------------------------------------------------------------------\u001b[0m",
      "\u001b[1;31mTypeError\u001b[0m                                 Traceback (most recent call last)",
      "Cell \u001b[1;32mIn[18], line 2\u001b[0m\n\u001b[0;32m      1\u001b[0m \u001b[38;5;28;01mimport\u001b[39;00m \u001b[38;5;21;01mmatplotlib\u001b[39;00m\u001b[38;5;21;01m.\u001b[39;00m\u001b[38;5;21;01mpyplot\u001b[39;00m \u001b[38;5;28;01mas\u001b[39;00m \u001b[38;5;21;01mplt\u001b[39;00m\n\u001b[1;32m----> 2\u001b[0m \u001b[38;5;28;01mfor\u001b[39;00m (x, y, w, h) \u001b[38;5;129;01min\u001b[39;00m corner_point:\n\u001b[0;32m      3\u001b[0m     \u001b[38;5;66;03m# Ensure coordinates are integers\u001b[39;00m\n\u001b[0;32m      4\u001b[0m     cv2\u001b[38;5;241m.\u001b[39mrectangle(img_01, (\u001b[38;5;28mint\u001b[39m(x), \u001b[38;5;28mint\u001b[39m(y)), (\u001b[38;5;28mint\u001b[39m(x\u001b[38;5;241m+\u001b[39mw), \u001b[38;5;28mint\u001b[39m(y\u001b[38;5;241m+\u001b[39mh)), (\u001b[38;5;241m0\u001b[39m, \u001b[38;5;241m255\u001b[39m, \u001b[38;5;241m0\u001b[39m), \u001b[38;5;241m2\u001b[39m)\n\u001b[0;32m      6\u001b[0m plt\u001b[38;5;241m.\u001b[39mimshow(cv2\u001b[38;5;241m.\u001b[39mcvtColor(img_01, cv2\u001b[38;5;241m.\u001b[39mCOLOR_BGR2RGB))\n",
      "\u001b[1;31mTypeError\u001b[0m: cannot unpack non-iterable float object"
     ]
    }
   ],
   "source": [
    "import matplotlib.pyplot as plt\n",
    "for (x, y, w, h) in corner_point:\n",
    "    # Ensure coordinates are integers\n",
    "    cv2.rectangle(img_01, (int(x), int(y)), (int(x+w), int(y+h)), (0, 255, 0), 2)\n",
    "\n",
    "plt.imshow(cv2.cvtColor(img_01, cv2.COLOR_BGR2RGB))\n",
    "plt.axis('off')\n",
    "plt.show()"
   ]
  },
  {
   "cell_type": "code",
   "execution_count": null,
   "id": "6fdd9564",
   "metadata": {},
   "outputs": [],
   "source": []
  }
 ],
 "metadata": {
  "kernelspec": {
   "display_name": "Python 3",
   "language": "python",
   "name": "python3"
  },
  "language_info": {
   "codemirror_mode": {
    "name": "ipython",
    "version": 3
   },
   "file_extension": ".py",
   "mimetype": "text/x-python",
   "name": "python",
   "nbconvert_exporter": "python",
   "pygments_lexer": "ipython3",
   "version": "3.12.4"
  }
 },
 "nbformat": 4,
 "nbformat_minor": 5
}
