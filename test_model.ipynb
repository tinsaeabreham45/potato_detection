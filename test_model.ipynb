{
 "cells": [
  {
   "cell_type": "code",
   "execution_count": 2,
   "id": "9a84959e",
   "metadata": {},
   "outputs": [],
   "source": [
    "from ultralytics import YOLO\n",
    "import cv2"
   ]
  },
  {
   "cell_type": "code",
   "execution_count": 7,
   "id": "b4c01eb1",
   "metadata": {},
   "outputs": [
    {
     "name": "stdout",
     "output_type": "stream",
     "text": [
      "\n",
      "0: 640x288 1 Sprouted Potato, 196.1ms\n",
      "Speed: 3.3ms preprocess, 196.1ms inference, 1.2ms postprocess per image at shape (1, 3, 640, 288)\n"
     ]
    }
   ],
   "source": [
    "def resize_image(image, max_width=640, max_height=640):\n",
    "    h, w = image.shape[:2]\n",
    "    if w > max_width or h > max_height:\n",
    "        scale_w = max_width / w\n",
    "        scale_h = max_height / h\n",
    "        scale = min(scale_w, scale_h)\n",
    "        new_w = int(w * scale)\n",
    "        new_h = int(h * scale)\n",
    "        image = cv2.resize(image, (new_w, new_h))\n",
    "    return image\n",
    "\n",
    "\n",
    "model = YOLO(\"my_model.pt\")\n",
    "\n",
    "\n",
    "image_path = \"images/photo_2025-04-25_16-52-46.jpg\"  \n",
    "image = cv2.imread(image_path)\n",
    "\n",
    "\n",
    "results = model.predict(source=image, conf=0.4, show=False)\n",
    "\n",
    "\n",
    "class_colors = {\n",
    "    'Good': (0, 255, 0),\n",
    "    'Defective': (0, 0, 255)\n",
    "}\n",
    "font = cv2.FONT_HERSHEY_SIMPLEX\n",
    "font_scale = 1.5\n",
    "thickness = 5\n",
    "\n",
    "\n",
    "for r in results:\n",
    "    for box in r.boxes:\n",
    "        x1, y1, x2, y2 = map(int, box.xyxy[0])\n",
    "        cls_id = int(box.cls[0])\n",
    "        conf = float(box.conf[0])\n",
    "        label_name = model.names[cls_id]\n",
    "        label = f\"{label_name} ({conf:.2f})\"\n",
    "        color = class_colors.get(label_name, (255, 255, 0))  \n",
    "\n",
    "        \n",
    "        cv2.rectangle(image, (x1, y1), (x2, y2), color, 2)\n",
    "\n",
    "        \n",
    "        (text_w, text_h), _ = cv2.getTextSize(label, font, font_scale, thickness)\n",
    "        cv2.rectangle(image, (x1, y1 - text_h - 10), (x1 + text_w, y1), color, -1)\n",
    "\n",
    "        \n",
    "        cv2.putText(image, label, (x1, y1 - 5), font, font_scale, (255, 255, 255), thickness)\n",
    "\n",
    "\n",
    "image = resize_image(image, max_width=600, max_height=700)\n",
    "\n",
    "\n",
    "cv2.imshow(\"Potato Detection\", image)\n",
    "cv2.waitKey(0)\n",
    "cv2.destroyAllWindows()\n"
   ]
  }
 ],
 "metadata": {
  "kernelspec": {
   "display_name": "Python 3",
   "language": "python",
   "name": "python3"
  },
  "language_info": {
   "codemirror_mode": {
    "name": "ipython",
    "version": 3
   },
   "file_extension": ".py",
   "mimetype": "text/x-python",
   "name": "python",
   "nbconvert_exporter": "python",
   "pygments_lexer": "ipython3",
   "version": "3.12.4"
  }
 },
 "nbformat": 4,
 "nbformat_minor": 5
}
