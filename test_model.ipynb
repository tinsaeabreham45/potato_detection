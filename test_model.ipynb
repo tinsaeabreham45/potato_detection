{
 "cells": [
  {
   "cell_type": "code",
   "execution_count": 2,
   "id": "9a84959e",
   "metadata": {},
   "outputs": [],
   "source": [
    "from ultralytics import YOLO\n",
    "import cv2"
   ]
  },
  {
   "cell_type": "code",
   "execution_count": 21,
   "id": "753d9ab6",
   "metadata": {},
   "outputs": [
    {
     "name": "stdout",
     "output_type": "stream",
     "text": [
      "\n",
      "0: 640x608 1 Sprouted Potato, 560.8ms\n",
      "Speed: 11.9ms preprocess, 560.8ms inference, 2.4ms postprocess per image at shape (1, 3, 640, 608)\n"
     ]
    }
   ],
   "source": [
    "def detect_and_annotate_potato(image_path, model_path=\"my_model.pt\", confidence_threshold=0.4,):\n",
    "    model = YOLO(model_path)\n",
    "    image = cv2.imread(image_path)\n",
    "    results = model.predict(source=image, conf=confidence_threshold, show=False)\n",
    "    \n",
    "    class_colors = {\n",
    "        'Damaged Potato': (0, 0, 255),\n",
    "        'Defected Potato': (255, 0, 0),\n",
    "        'Potato': (0, 255, 0),\n",
    "        'Sprouted Potato': (255, 255, 0)\n",
    "    }\n",
    "\n",
    "    font = cv2.FONT_HERSHEY_SIMPLEX\n",
    "    font_scale = 1.5\n",
    "    thickness_font = 5\n",
    "    thickness = 2\n",
    "\n",
    "    for r in results:\n",
    "        for box in r.boxes:\n",
    "            x1, y1, x2, y2 = map(int, box.xyxy[0])\n",
    "            cls_id = int(box.cls[0])\n",
    "            conf = float(box.conf[0])\n",
    "            label_name = model.names[cls_id]\n",
    "            label = f\"{label_name} ({conf:.2f})\"\n",
    "            color = class_colors.get(label_name, (255, 255, 255))\n",
    "            cv2.rectangle(image, (x1, y1), (x2, y2), color, 2)\n",
    "            (text_w, text_h), _ = cv2.getTextSize(label, font, font_scale, thickness)\n",
    "            cv2.rectangle(image, (x1, y1 - text_h - 10), (x1 + text_w, y1), color, -1)\n",
    "            cv2.putText(image, label, (x1, y1 - 5), font, font_scale, (255, 255, 255), thickness_font)\n",
    "\n",
    "    resized_image = cv2.resize(image, dsize=(640, 640), interpolation=cv2.INTER_NEAREST)\n",
    "    cv2.imshow(\"Potato Detection\", resized_image)\n",
    "    cv2.waitKey(0)\n",
    "    cv2.destroyAllWindows()\n",
    "\n",
    "detect_and_annotate_potato(\"images/photo_2025-04-25_16-51-53.jpg\")"
   ]
  },
  {
   "cell_type": "code",
   "execution_count": null,
   "id": "c378fd54",
   "metadata": {},
   "outputs": [],
   "source": []
  }
 ],
 "metadata": {
  "kernelspec": {
   "display_name": "Python 3",
   "language": "python",
   "name": "python3"
  },
  "language_info": {
   "codemirror_mode": {
    "name": "ipython",
    "version": 3
   },
   "file_extension": ".py",
   "mimetype": "text/x-python",
   "name": "python",
   "nbconvert_exporter": "python",
   "pygments_lexer": "ipython3",
   "version": "3.12.4"
  }
 },
 "nbformat": 4,
 "nbformat_minor": 5
}
